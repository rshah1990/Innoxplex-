{
 "cells": [
  {
   "cell_type": "code",
   "execution_count": 1,
   "metadata": {},
   "outputs": [],
   "source": [
    "import pandas as pd\n",
    "from bs4 import BeautifulSoup\n",
    "import requests\n",
    "import numpy as np\n",
    "import time"
   ]
  },
  {
   "cell_type": "code",
   "execution_count": 2,
   "metadata": {},
   "outputs": [],
   "source": [
    "train_df = pd.read_csv('train.csv')"
   ]
  },
  {
   "cell_type": "code",
   "execution_count": 3,
   "metadata": {},
   "outputs": [],
   "source": [
    "# train_df.head()"
   ]
  },
  {
   "cell_type": "code",
   "execution_count": 4,
   "metadata": {},
   "outputs": [],
   "source": [
    "unique_domain_df = pd.DataFrame(train_df.Domain.unique(),columns=[\"Domain\"])"
   ]
  },
  {
   "cell_type": "code",
   "execution_count": 5,
   "metadata": {},
   "outputs": [
    {
     "data": {
      "text/html": [
       "<div>\n",
       "<style scoped>\n",
       "    .dataframe tbody tr th:only-of-type {\n",
       "        vertical-align: middle;\n",
       "    }\n",
       "\n",
       "    .dataframe tbody tr th {\n",
       "        vertical-align: top;\n",
       "    }\n",
       "\n",
       "    .dataframe thead th {\n",
       "        text-align: right;\n",
       "    }\n",
       "</style>\n",
       "<table border=\"1\" class=\"dataframe\">\n",
       "  <thead>\n",
       "    <tr style=\"text-align: right;\">\n",
       "      <th></th>\n",
       "      <th>Domain</th>\n",
       "    </tr>\n",
       "  </thead>\n",
       "  <tbody>\n",
       "    <tr>\n",
       "      <th>0</th>\n",
       "      <td>www.fiercepharma.com</td>\n",
       "    </tr>\n",
       "    <tr>\n",
       "      <th>1</th>\n",
       "      <td>upload.umin.ac.jp</td>\n",
       "    </tr>\n",
       "    <tr>\n",
       "      <th>2</th>\n",
       "      <td>www.anzctr.org.au</td>\n",
       "    </tr>\n",
       "    <tr>\n",
       "      <th>3</th>\n",
       "      <td>www.chictr.org.cn</td>\n",
       "    </tr>\n",
       "    <tr>\n",
       "      <th>4</th>\n",
       "      <td>en.search.irct.ir</td>\n",
       "    </tr>\n",
       "  </tbody>\n",
       "</table>\n",
       "</div>"
      ],
      "text/plain": [
       "                 Domain\n",
       "0  www.fiercepharma.com\n",
       "1     upload.umin.ac.jp\n",
       "2     www.anzctr.org.au\n",
       "3     www.chictr.org.cn\n",
       "4     en.search.irct.ir"
      ]
     },
     "execution_count": 5,
     "metadata": {},
     "output_type": "execute_result"
    }
   ],
   "source": [
    "unique_domain_df.head()"
   ]
  },
  {
   "cell_type": "code",
   "execution_count": 6,
   "metadata": {},
   "outputs": [],
   "source": [
    "unique_domain_df['is_secure'] = unique_domain_df['Domain'].apply(lambda x : x.split(\"://\")[0])"
   ]
  },
  {
   "cell_type": "code",
   "execution_count": 7,
   "metadata": {},
   "outputs": [],
   "source": [
    "# train_df.head()"
   ]
  },
  {
   "cell_type": "code",
   "execution_count": null,
   "metadata": {},
   "outputs": [
    {
     "name": "stdout",
     "output_type": "stream",
     "text": [
      "number of iteration0\n",
      "time taken 0.00033004859754029166\n",
      "connection error found http\n",
      "no connection found in https\n",
      "connection error found http\n",
      "no connection found in https\n",
      "number of iteration30\n",
      "time taken 64.77616816399184\n",
      "number of iteration60\n",
      "time taken 133.95116021250053\n",
      "connection error found http\n",
      "no connection found in https\n",
      "number of iteration90\n",
      "time taken 206.39485695425793\n",
      "connection error found http\n",
      "no connection found in https\n",
      "connection error found http\n",
      "no connection found in https\n",
      "number of iteration120\n",
      "time taken 364.66550597225756\n",
      "number of iteration150\n",
      "time taken 444.9892688365716\n",
      "number of iteration180\n",
      "time taken 529.269061540664\n",
      "connection error found http\n",
      "no connection found in https\n",
      "number of iteration210\n",
      "time taken 626.2668174922936\n",
      "connection error found http\n",
      "no connection found in https\n",
      "number of iteration240\n",
      "time taken 761.1954589403324\n",
      "number of iteration270\n",
      "time taken 837.8486208834724\n",
      "connection error found http\n",
      "no connection found in https\n",
      "connection error found http\n",
      "no connection found in https\n",
      "number of iteration300\n",
      "time taken 934.592271503054\n",
      "number of iteration330\n",
      "time taken 1006.333844861644\n",
      "connection error found http\n",
      "no connection found in https\n"
     ]
    }
   ],
   "source": [
    "titl_content = []\n",
    "start_time = time.clock()\n",
    "for counter in range(len(unique_domain_df)):\n",
    "    title = []\n",
    "    if counter%30 == 0:\n",
    "        print(\"number of iteration{}\".format(counter))\n",
    "        print(\"time taken {}\".format(time.clock() -start_time ))\n",
    "    row = unique_domain_df.iloc[counter]\n",
    "    url = \"http\"+\"://\"+row.Domain+\"/\"\n",
    "    try:\n",
    "        r = requests.get(url)\n",
    "    except:\n",
    "        print(\"connection error found http\")\n",
    "        url = \"https\"+\"://\"+row.Domain+\"/\"\n",
    "        try:\n",
    "            r = requests.get(url)\n",
    "        except:\n",
    "            print(\"no connection found in https\")\n",
    "            \n",
    "\n",
    "    soup = BeautifulSoup(r.text, \"html.parser\")\n",
    "    metadata = soup.find_all(\"meta\")\n",
    "    for link in metadata:\n",
    "        if link.get(\"name\") == \"title\":\n",
    "            title.append(link.get(\"content\"))\n",
    "    titl_content.append(title)        "
   ]
  },
  {
   "cell_type": "code",
   "execution_count": null,
   "metadata": {},
   "outputs": [],
   "source": [
    "# star_time = 11:25 PM"
   ]
  }
 ],
 "metadata": {
  "kernelspec": {
   "display_name": "Python 3",
   "language": "python",
   "name": "python3"
  },
  "language_info": {
   "codemirror_mode": {
    "name": "ipython",
    "version": 3
   },
   "file_extension": ".py",
   "mimetype": "text/x-python",
   "name": "python",
   "nbconvert_exporter": "python",
   "pygments_lexer": "ipython3",
   "version": "3.5.5"
  }
 },
 "nbformat": 4,
 "nbformat_minor": 2
}
