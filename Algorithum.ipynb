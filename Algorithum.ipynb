{
 "cells": [
  {
   "cell_type": "code",
   "execution_count": 1,
   "metadata": {},
   "outputs": [],
   "source": [
    "import pandas as pd\n",
    "pd.options.mode.chained_assignment = None"
   ]
  },
  {
   "cell_type": "code",
   "execution_count": 2,
   "metadata": {},
   "outputs": [],
   "source": [
    "first_df = pd.read_csv('final_file_Title_Desc_KeyWork.csv')"
   ]
  },
  {
   "cell_type": "code",
   "execution_count": 3,
   "metadata": {},
   "outputs": [
    {
     "data": {
      "text/html": [
       "<div>\n",
       "<style scoped>\n",
       "    .dataframe tbody tr th:only-of-type {\n",
       "        vertical-align: middle;\n",
       "    }\n",
       "\n",
       "    .dataframe tbody tr th {\n",
       "        vertical-align: top;\n",
       "    }\n",
       "\n",
       "    .dataframe thead th {\n",
       "        text-align: right;\n",
       "    }\n",
       "</style>\n",
       "<table border=\"1\" class=\"dataframe\">\n",
       "  <thead>\n",
       "    <tr style=\"text-align: right;\">\n",
       "      <th></th>\n",
       "      <th>Webpage_id</th>\n",
       "      <th>Domain</th>\n",
       "      <th>Url</th>\n",
       "      <th>Tag</th>\n",
       "      <th>Title</th>\n",
       "      <th>Meta Description</th>\n",
       "      <th>Meta Keywords</th>\n",
       "    </tr>\n",
       "  </thead>\n",
       "  <tbody>\n",
       "    <tr>\n",
       "      <th>0</th>\n",
       "      <td>1</td>\n",
       "      <td>www.fiercepharma.com</td>\n",
       "      <td>http://www.fiercepharma.com/marketing/tecfider...</td>\n",
       "      <td>news</td>\n",
       "      <td>Pharma News | Pharma Industry | Pharmaceutical...</td>\n",
       "      <td>Visit FiercePharma for pharma industry news on...</td>\n",
       "      <td>pharmaceutical company,pharmaceutical industry...</td>\n",
       "    </tr>\n",
       "    <tr>\n",
       "      <th>1</th>\n",
       "      <td>2</td>\n",
       "      <td>www.fiercepharma.com</td>\n",
       "      <td>http://www.fiercepharma.com/pharma/novo-equipp...</td>\n",
       "      <td>news</td>\n",
       "      <td>Pharma News | Pharma Industry | Pharmaceutical...</td>\n",
       "      <td>Visit FiercePharma for pharma industry news on...</td>\n",
       "      <td>pharmaceutical company,pharmaceutical industry...</td>\n",
       "    </tr>\n",
       "    <tr>\n",
       "      <th>2</th>\n",
       "      <td>3</td>\n",
       "      <td>www.fiercepharma.com</td>\n",
       "      <td>http://www.fiercepharma.com/pharma/another-exe...</td>\n",
       "      <td>news</td>\n",
       "      <td>Pharma News | Pharma Industry | Pharmaceutical...</td>\n",
       "      <td>Visit FiercePharma for pharma industry news on...</td>\n",
       "      <td>pharmaceutical company,pharmaceutical industry...</td>\n",
       "    </tr>\n",
       "    <tr>\n",
       "      <th>3</th>\n",
       "      <td>4</td>\n",
       "      <td>www.fiercepharma.com</td>\n",
       "      <td>http://www.fiercepharma.com/pharma/teva-buy-bi...</td>\n",
       "      <td>news</td>\n",
       "      <td>Pharma News | Pharma Industry | Pharmaceutical...</td>\n",
       "      <td>Visit FiercePharma for pharma industry news on...</td>\n",
       "      <td>pharmaceutical company,pharmaceutical industry...</td>\n",
       "    </tr>\n",
       "    <tr>\n",
       "      <th>4</th>\n",
       "      <td>5</td>\n",
       "      <td>www.fiercepharma.com</td>\n",
       "      <td>http://www.fiercepharma.com/marketing/actress-...</td>\n",
       "      <td>news</td>\n",
       "      <td>Pharma News | Pharma Industry | Pharmaceutical...</td>\n",
       "      <td>Visit FiercePharma for pharma industry news on...</td>\n",
       "      <td>pharmaceutical company,pharmaceutical industry...</td>\n",
       "    </tr>\n",
       "  </tbody>\n",
       "</table>\n",
       "</div>"
      ],
      "text/plain": [
       "   Webpage_id                Domain  \\\n",
       "0           1  www.fiercepharma.com   \n",
       "1           2  www.fiercepharma.com   \n",
       "2           3  www.fiercepharma.com   \n",
       "3           4  www.fiercepharma.com   \n",
       "4           5  www.fiercepharma.com   \n",
       "\n",
       "                                                 Url   Tag  \\\n",
       "0  http://www.fiercepharma.com/marketing/tecfider...  news   \n",
       "1  http://www.fiercepharma.com/pharma/novo-equipp...  news   \n",
       "2  http://www.fiercepharma.com/pharma/another-exe...  news   \n",
       "3  http://www.fiercepharma.com/pharma/teva-buy-bi...  news   \n",
       "4  http://www.fiercepharma.com/marketing/actress-...  news   \n",
       "\n",
       "                                               Title  \\\n",
       "0  Pharma News | Pharma Industry | Pharmaceutical...   \n",
       "1  Pharma News | Pharma Industry | Pharmaceutical...   \n",
       "2  Pharma News | Pharma Industry | Pharmaceutical...   \n",
       "3  Pharma News | Pharma Industry | Pharmaceutical...   \n",
       "4  Pharma News | Pharma Industry | Pharmaceutical...   \n",
       "\n",
       "                                    Meta Description  \\\n",
       "0  Visit FiercePharma for pharma industry news on...   \n",
       "1  Visit FiercePharma for pharma industry news on...   \n",
       "2  Visit FiercePharma for pharma industry news on...   \n",
       "3  Visit FiercePharma for pharma industry news on...   \n",
       "4  Visit FiercePharma for pharma industry news on...   \n",
       "\n",
       "                                       Meta Keywords  \n",
       "0  pharmaceutical company,pharmaceutical industry...  \n",
       "1  pharmaceutical company,pharmaceutical industry...  \n",
       "2  pharmaceutical company,pharmaceutical industry...  \n",
       "3  pharmaceutical company,pharmaceutical industry...  \n",
       "4  pharmaceutical company,pharmaceutical industry...  "
      ]
     },
     "execution_count": 3,
     "metadata": {},
     "output_type": "execute_result"
    }
   ],
   "source": [
    "first_df.head()"
   ]
  },
  {
   "cell_type": "code",
   "execution_count": 4,
   "metadata": {},
   "outputs": [],
   "source": [
    "second_df = pd.read_csv('title.csv')"
   ]
  },
  {
   "cell_type": "code",
   "execution_count": 5,
   "metadata": {},
   "outputs": [
    {
     "data": {
      "text/html": [
       "<div>\n",
       "<style scoped>\n",
       "    .dataframe tbody tr th:only-of-type {\n",
       "        vertical-align: middle;\n",
       "    }\n",
       "\n",
       "    .dataframe tbody tr th {\n",
       "        vertical-align: top;\n",
       "    }\n",
       "\n",
       "    .dataframe thead th {\n",
       "        text-align: right;\n",
       "    }\n",
       "</style>\n",
       "<table border=\"1\" class=\"dataframe\">\n",
       "  <thead>\n",
       "    <tr style=\"text-align: right;\">\n",
       "      <th></th>\n",
       "      <th>title</th>\n",
       "      <th>Webpage_id</th>\n",
       "    </tr>\n",
       "  </thead>\n",
       "  <tbody>\n",
       "    <tr>\n",
       "      <th>0</th>\n",
       "      <td>[\"Tecfidera, Gilenya and Aubagio's 3-way battl...</td>\n",
       "      <td>1</td>\n",
       "    </tr>\n",
       "    <tr>\n",
       "      <th>1</th>\n",
       "      <td>['Novo equipped to weather the storm in the U....</td>\n",
       "      <td>2</td>\n",
       "    </tr>\n",
       "    <tr>\n",
       "      <th>2</th>\n",
       "      <td>[\"Another exec departs troubled Endo--and this...</td>\n",
       "      <td>3</td>\n",
       "    </tr>\n",
       "    <tr>\n",
       "      <th>3</th>\n",
       "      <td>[\"Would Teva buy Korea's Celltrion to beef up ...</td>\n",
       "      <td>4</td>\n",
       "    </tr>\n",
       "    <tr>\n",
       "      <th>4</th>\n",
       "      <td>['Restasis-maker Allergan recruits actress Mar...</td>\n",
       "      <td>5</td>\n",
       "    </tr>\n",
       "  </tbody>\n",
       "</table>\n",
       "</div>"
      ],
      "text/plain": [
       "                                               title  Webpage_id\n",
       "0  [\"Tecfidera, Gilenya and Aubagio's 3-way battl...           1\n",
       "1  ['Novo equipped to weather the storm in the U....           2\n",
       "2  [\"Another exec departs troubled Endo--and this...           3\n",
       "3  [\"Would Teva buy Korea's Celltrion to beef up ...           4\n",
       "4  ['Restasis-maker Allergan recruits actress Mar...           5"
      ]
     },
     "execution_count": 5,
     "metadata": {},
     "output_type": "execute_result"
    }
   ],
   "source": [
    "second_df.head()"
   ]
  },
  {
   "cell_type": "code",
   "execution_count": 6,
   "metadata": {},
   "outputs": [],
   "source": [
    "second_df['title'] = second_df['title'].apply(lambda x: x.replace(r'\\'',\"\"))"
   ]
  },
  {
   "cell_type": "code",
   "execution_count": 7,
   "metadata": {},
   "outputs": [],
   "source": [
    "main_df = first_df.merge(second_df)"
   ]
  },
  {
   "cell_type": "code",
   "execution_count": 8,
   "metadata": {},
   "outputs": [
    {
     "data": {
      "text/html": [
       "<div>\n",
       "<style scoped>\n",
       "    .dataframe tbody tr th:only-of-type {\n",
       "        vertical-align: middle;\n",
       "    }\n",
       "\n",
       "    .dataframe tbody tr th {\n",
       "        vertical-align: top;\n",
       "    }\n",
       "\n",
       "    .dataframe thead th {\n",
       "        text-align: right;\n",
       "    }\n",
       "</style>\n",
       "<table border=\"1\" class=\"dataframe\">\n",
       "  <thead>\n",
       "    <tr style=\"text-align: right;\">\n",
       "      <th></th>\n",
       "      <th>Domain</th>\n",
       "      <th>Url</th>\n",
       "      <th>Tag</th>\n",
       "      <th>Title</th>\n",
       "      <th>Meta Description</th>\n",
       "      <th>Meta Keywords</th>\n",
       "      <th>title</th>\n",
       "    </tr>\n",
       "  </thead>\n",
       "  <tbody>\n",
       "    <tr>\n",
       "      <th>0</th>\n",
       "      <td>www.fiercepharma.com</td>\n",
       "      <td>http://www.fiercepharma.com/marketing/tecfider...</td>\n",
       "      <td>news</td>\n",
       "      <td>Pharma News | Pharma Industry | Pharmaceutical...</td>\n",
       "      <td>Visit FiercePharma for pharma industry news on...</td>\n",
       "      <td>pharmaceutical company,pharmaceutical industry...</td>\n",
       "      <td>[\"Tecfidera, Gilenya and Aubagio's 3-way battl...</td>\n",
       "    </tr>\n",
       "    <tr>\n",
       "      <th>1</th>\n",
       "      <td>www.fiercepharma.com</td>\n",
       "      <td>http://www.fiercepharma.com/pharma/novo-equipp...</td>\n",
       "      <td>news</td>\n",
       "      <td>Pharma News | Pharma Industry | Pharmaceutical...</td>\n",
       "      <td>Visit FiercePharma for pharma industry news on...</td>\n",
       "      <td>pharmaceutical company,pharmaceutical industry...</td>\n",
       "      <td>['Novo equipped to weather the storm in the U....</td>\n",
       "    </tr>\n",
       "    <tr>\n",
       "      <th>2</th>\n",
       "      <td>www.fiercepharma.com</td>\n",
       "      <td>http://www.fiercepharma.com/pharma/another-exe...</td>\n",
       "      <td>news</td>\n",
       "      <td>Pharma News | Pharma Industry | Pharmaceutical...</td>\n",
       "      <td>Visit FiercePharma for pharma industry news on...</td>\n",
       "      <td>pharmaceutical company,pharmaceutical industry...</td>\n",
       "      <td>[\"Another exec departs troubled Endo--and this...</td>\n",
       "    </tr>\n",
       "    <tr>\n",
       "      <th>3</th>\n",
       "      <td>www.fiercepharma.com</td>\n",
       "      <td>http://www.fiercepharma.com/pharma/teva-buy-bi...</td>\n",
       "      <td>news</td>\n",
       "      <td>Pharma News | Pharma Industry | Pharmaceutical...</td>\n",
       "      <td>Visit FiercePharma for pharma industry news on...</td>\n",
       "      <td>pharmaceutical company,pharmaceutical industry...</td>\n",
       "      <td>[\"Would Teva buy Korea's Celltrion to beef up ...</td>\n",
       "    </tr>\n",
       "    <tr>\n",
       "      <th>4</th>\n",
       "      <td>www.fiercepharma.com</td>\n",
       "      <td>http://www.fiercepharma.com/marketing/actress-...</td>\n",
       "      <td>news</td>\n",
       "      <td>Pharma News | Pharma Industry | Pharmaceutical...</td>\n",
       "      <td>Visit FiercePharma for pharma industry news on...</td>\n",
       "      <td>pharmaceutical company,pharmaceutical industry...</td>\n",
       "      <td>['Restasis-maker Allergan recruits actress Mar...</td>\n",
       "    </tr>\n",
       "  </tbody>\n",
       "</table>\n",
       "</div>"
      ],
      "text/plain": [
       "                 Domain                                                Url  \\\n",
       "0  www.fiercepharma.com  http://www.fiercepharma.com/marketing/tecfider...   \n",
       "1  www.fiercepharma.com  http://www.fiercepharma.com/pharma/novo-equipp...   \n",
       "2  www.fiercepharma.com  http://www.fiercepharma.com/pharma/another-exe...   \n",
       "3  www.fiercepharma.com  http://www.fiercepharma.com/pharma/teva-buy-bi...   \n",
       "4  www.fiercepharma.com  http://www.fiercepharma.com/marketing/actress-...   \n",
       "\n",
       "    Tag                                              Title  \\\n",
       "0  news  Pharma News | Pharma Industry | Pharmaceutical...   \n",
       "1  news  Pharma News | Pharma Industry | Pharmaceutical...   \n",
       "2  news  Pharma News | Pharma Industry | Pharmaceutical...   \n",
       "3  news  Pharma News | Pharma Industry | Pharmaceutical...   \n",
       "4  news  Pharma News | Pharma Industry | Pharmaceutical...   \n",
       "\n",
       "                                    Meta Description  \\\n",
       "0  Visit FiercePharma for pharma industry news on...   \n",
       "1  Visit FiercePharma for pharma industry news on...   \n",
       "2  Visit FiercePharma for pharma industry news on...   \n",
       "3  Visit FiercePharma for pharma industry news on...   \n",
       "4  Visit FiercePharma for pharma industry news on...   \n",
       "\n",
       "                                       Meta Keywords  \\\n",
       "0  pharmaceutical company,pharmaceutical industry...   \n",
       "1  pharmaceutical company,pharmaceutical industry...   \n",
       "2  pharmaceutical company,pharmaceutical industry...   \n",
       "3  pharmaceutical company,pharmaceutical industry...   \n",
       "4  pharmaceutical company,pharmaceutical industry...   \n",
       "\n",
       "                                               title  \n",
       "0  [\"Tecfidera, Gilenya and Aubagio's 3-way battl...  \n",
       "1  ['Novo equipped to weather the storm in the U....  \n",
       "2  [\"Another exec departs troubled Endo--and this...  \n",
       "3  [\"Would Teva buy Korea's Celltrion to beef up ...  \n",
       "4  ['Restasis-maker Allergan recruits actress Mar...  "
      ]
     },
     "execution_count": 8,
     "metadata": {},
     "output_type": "execute_result"
    }
   ],
   "source": [
    "main_df.drop([\"Webpage_id\"],axis=1,inplace=True)\n",
    "main_df.head()"
   ]
  },
  {
   "cell_type": "code",
   "execution_count": 9,
   "metadata": {},
   "outputs": [],
   "source": [
    "main_df['url_split'] = main_df['Url'].apply(lambda x : x.split(\"/\")[3:])"
   ]
  },
  {
   "cell_type": "code",
   "execution_count": 10,
   "metadata": {},
   "outputs": [],
   "source": [
    "split_url_string = []\n",
    "for counter in range(len(main_df)):\n",
    "    row = main_df.iloc[counter]\n",
    "    text = \"\"\n",
    "    for link in row.url_split:\n",
    "        text += \" \"+link\n",
    "    split_url_string.append(text)\n",
    "main_df['url_split_str'] = pd.DataFrame(split_url_string)"
   ]
  },
  {
   "cell_type": "code",
   "execution_count": 11,
   "metadata": {},
   "outputs": [
    {
     "data": {
      "text/html": [
       "<div>\n",
       "<style scoped>\n",
       "    .dataframe tbody tr th:only-of-type {\n",
       "        vertical-align: middle;\n",
       "    }\n",
       "\n",
       "    .dataframe tbody tr th {\n",
       "        vertical-align: top;\n",
       "    }\n",
       "\n",
       "    .dataframe thead th {\n",
       "        text-align: right;\n",
       "    }\n",
       "</style>\n",
       "<table border=\"1\" class=\"dataframe\">\n",
       "  <thead>\n",
       "    <tr style=\"text-align: right;\">\n",
       "      <th></th>\n",
       "      <th>Domain</th>\n",
       "      <th>Url</th>\n",
       "      <th>Tag</th>\n",
       "      <th>Title</th>\n",
       "      <th>Meta Description</th>\n",
       "      <th>Meta Keywords</th>\n",
       "      <th>title</th>\n",
       "      <th>url_split_str</th>\n",
       "    </tr>\n",
       "  </thead>\n",
       "  <tbody>\n",
       "    <tr>\n",
       "      <th>0</th>\n",
       "      <td>www.fiercepharma.com</td>\n",
       "      <td>http://www.fiercepharma.com/marketing/tecfider...</td>\n",
       "      <td>news</td>\n",
       "      <td>Pharma News | Pharma Industry | Pharmaceutical...</td>\n",
       "      <td>Visit FiercePharma for pharma industry news on...</td>\n",
       "      <td>pharmaceutical company,pharmaceutical industry...</td>\n",
       "      <td>[\"Tecfidera, Gilenya and Aubagio's 3-way battl...</td>\n",
       "      <td>marketing tecfidera-gilenya-and-aubagio-s-3-w...</td>\n",
       "    </tr>\n",
       "    <tr>\n",
       "      <th>1</th>\n",
       "      <td>www.fiercepharma.com</td>\n",
       "      <td>http://www.fiercepharma.com/pharma/novo-equipp...</td>\n",
       "      <td>news</td>\n",
       "      <td>Pharma News | Pharma Industry | Pharmaceutical...</td>\n",
       "      <td>Visit FiercePharma for pharma industry news on...</td>\n",
       "      <td>pharmaceutical company,pharmaceutical industry...</td>\n",
       "      <td>['Novo equipped to weather the storm in the U....</td>\n",
       "      <td>pharma novo-equipped-to-weather-storm-u-s-dia...</td>\n",
       "    </tr>\n",
       "    <tr>\n",
       "      <th>2</th>\n",
       "      <td>www.fiercepharma.com</td>\n",
       "      <td>http://www.fiercepharma.com/pharma/another-exe...</td>\n",
       "      <td>news</td>\n",
       "      <td>Pharma News | Pharma Industry | Pharmaceutical...</td>\n",
       "      <td>Visit FiercePharma for pharma industry news on...</td>\n",
       "      <td>pharmaceutical company,pharmaceutical industry...</td>\n",
       "      <td>[\"Another exec departs troubled Endo--and this...</td>\n",
       "      <td>pharma another-exec-departs-troubled-endo-and...</td>\n",
       "    </tr>\n",
       "    <tr>\n",
       "      <th>3</th>\n",
       "      <td>www.fiercepharma.com</td>\n",
       "      <td>http://www.fiercepharma.com/pharma/teva-buy-bi...</td>\n",
       "      <td>news</td>\n",
       "      <td>Pharma News | Pharma Industry | Pharmaceutical...</td>\n",
       "      <td>Visit FiercePharma for pharma industry news on...</td>\n",
       "      <td>pharmaceutical company,pharmaceutical industry...</td>\n",
       "      <td>[\"Would Teva buy Korea's Celltrion to beef up ...</td>\n",
       "      <td>pharma teva-buy-biosim-specialist-celltrion-i...</td>\n",
       "    </tr>\n",
       "    <tr>\n",
       "      <th>4</th>\n",
       "      <td>www.fiercepharma.com</td>\n",
       "      <td>http://www.fiercepharma.com/marketing/actress-...</td>\n",
       "      <td>news</td>\n",
       "      <td>Pharma News | Pharma Industry | Pharmaceutical...</td>\n",
       "      <td>Visit FiercePharma for pharma industry news on...</td>\n",
       "      <td>pharmaceutical company,pharmaceutical industry...</td>\n",
       "      <td>['Restasis-maker Allergan recruits actress Mar...</td>\n",
       "      <td>marketing actress-marissa-tomei-partners-alle...</td>\n",
       "    </tr>\n",
       "  </tbody>\n",
       "</table>\n",
       "</div>"
      ],
      "text/plain": [
       "                 Domain                                                Url  \\\n",
       "0  www.fiercepharma.com  http://www.fiercepharma.com/marketing/tecfider...   \n",
       "1  www.fiercepharma.com  http://www.fiercepharma.com/pharma/novo-equipp...   \n",
       "2  www.fiercepharma.com  http://www.fiercepharma.com/pharma/another-exe...   \n",
       "3  www.fiercepharma.com  http://www.fiercepharma.com/pharma/teva-buy-bi...   \n",
       "4  www.fiercepharma.com  http://www.fiercepharma.com/marketing/actress-...   \n",
       "\n",
       "    Tag                                              Title  \\\n",
       "0  news  Pharma News | Pharma Industry | Pharmaceutical...   \n",
       "1  news  Pharma News | Pharma Industry | Pharmaceutical...   \n",
       "2  news  Pharma News | Pharma Industry | Pharmaceutical...   \n",
       "3  news  Pharma News | Pharma Industry | Pharmaceutical...   \n",
       "4  news  Pharma News | Pharma Industry | Pharmaceutical...   \n",
       "\n",
       "                                    Meta Description  \\\n",
       "0  Visit FiercePharma for pharma industry news on...   \n",
       "1  Visit FiercePharma for pharma industry news on...   \n",
       "2  Visit FiercePharma for pharma industry news on...   \n",
       "3  Visit FiercePharma for pharma industry news on...   \n",
       "4  Visit FiercePharma for pharma industry news on...   \n",
       "\n",
       "                                       Meta Keywords  \\\n",
       "0  pharmaceutical company,pharmaceutical industry...   \n",
       "1  pharmaceutical company,pharmaceutical industry...   \n",
       "2  pharmaceutical company,pharmaceutical industry...   \n",
       "3  pharmaceutical company,pharmaceutical industry...   \n",
       "4  pharmaceutical company,pharmaceutical industry...   \n",
       "\n",
       "                                               title  \\\n",
       "0  [\"Tecfidera, Gilenya and Aubagio's 3-way battl...   \n",
       "1  ['Novo equipped to weather the storm in the U....   \n",
       "2  [\"Another exec departs troubled Endo--and this...   \n",
       "3  [\"Would Teva buy Korea's Celltrion to beef up ...   \n",
       "4  ['Restasis-maker Allergan recruits actress Mar...   \n",
       "\n",
       "                                       url_split_str  \n",
       "0   marketing tecfidera-gilenya-and-aubagio-s-3-w...  \n",
       "1   pharma novo-equipped-to-weather-storm-u-s-dia...  \n",
       "2   pharma another-exec-departs-troubled-endo-and...  \n",
       "3   pharma teva-buy-biosim-specialist-celltrion-i...  \n",
       "4   marketing actress-marissa-tomei-partners-alle...  "
      ]
     },
     "execution_count": 11,
     "metadata": {},
     "output_type": "execute_result"
    }
   ],
   "source": [
    "main_df.drop([\"url_split\"],axis=1,inplace=True)\n",
    "main_df.head()"
   ]
  },
  {
   "cell_type": "code",
   "execution_count": 12,
   "metadata": {},
   "outputs": [],
   "source": [
    "actual_df = main_df [~(main_df['Title'].isnull() & main_df['Meta Description'].isnull() & main_df['Meta Keywords'].isnull())]"
   ]
  },
  {
   "cell_type": "code",
   "execution_count": 13,
   "metadata": {},
   "outputs": [],
   "source": [
    "actual_df['url_len'] = actual_df['Url'].apply(len)\n",
    "actual_df = actual_df.reset_index(drop=True)"
   ]
  },
  {
   "cell_type": "code",
   "execution_count": 14,
   "metadata": {},
   "outputs": [],
   "source": [
    "actual_df['category_id'] = actual_df['Tag'].factorize()[0]\n",
    "category_id_df = actual_df[['Tag', 'category_id']].drop_duplicates().sort_values('category_id')\n",
    "category_to_id = dict(category_id_df.values)\n",
    "id_to_category = dict(category_id_df[['category_id', 'Tag']].values)"
   ]
  },
  {
   "cell_type": "code",
   "execution_count": 15,
   "metadata": {},
   "outputs": [],
   "source": [
    "import numpy as np\n",
    "actual_df = actual_df.reindex(np.random.permutation(actual_df.index))"
   ]
  },
  {
   "cell_type": "code",
   "execution_count": 16,
   "metadata": {},
   "outputs": [
    {
     "data": {
      "text/plain": [
       "(49020, 2501)"
      ]
     },
     "execution_count": 16,
     "metadata": {},
     "output_type": "execute_result"
    }
   ],
   "source": [
    "from sklearn.feature_extraction.text import TfidfVectorizer\n",
    "# tfid vectorize\n",
    "tfidf1 = TfidfVectorizer(sublinear_tf=True, norm='l2', encoding='latin-1',ngram_range=(1, 2), stop_words='english',lowercase =True,analyzer='word',max_features=500)\n",
    "tfidf2 = TfidfVectorizer(sublinear_tf=True, norm='l2', encoding='latin-1', ngram_range=(1, 2), stop_words='english',lowercase =True,analyzer='word',max_features=500)\n",
    "tfidf3 = TfidfVectorizer(sublinear_tf=True, norm='l2', encoding='latin-1', ngram_range=(1, 2), stop_words='english',lowercase =True,analyzer='word',max_features=500)\n",
    "tfidf4 = TfidfVectorizer(sublinear_tf=True, norm='l2', encoding='latin-1', ngram_range=(1, 2), stop_words='english',lowercase =True,analyzer='word',max_features=500)\n",
    "tfidf5 = TfidfVectorizer(sublinear_tf=True, norm='l2', encoding='latin-1', ngram_range=(1, 2), stop_words='english',lowercase =True,analyzer='word',max_features=500)\n",
    "\n",
    "# feature transformation\n",
    "\n",
    "features1 = tfidf1.fit_transform(actual_df.Title.astype('U')).toarray()\n",
    "features2 = tfidf2.fit_transform(actual_df.url_split_str.astype('U')).toarray()\n",
    "features3 = tfidf3.fit_transform(actual_df['Meta Description'].astype('U')).toarray()\n",
    "features4 = tfidf4.fit_transform(actual_df['Meta Keywords'].astype('U')).toarray()\n",
    "features5 = tfidf5.fit_transform(actual_df.title.astype('U')).toarray()\n",
    "# features = pd.concat([pd.DataFrame(features1),pd.DataFrame(features2),pd.DataFrame(features3),url_len],axis=1,ignore_index=True)\n",
    "features = pd.concat([pd.DataFrame(features1),pd.DataFrame(features2),pd.DataFrame(features3),pd.DataFrame(features4),pd.DataFrame(features5),actual_df['url_len']],axis=1,ignore_index=True)\n",
    "labels = actual_df.category_id\n",
    "features.shape"
   ]
  },
  {
   "cell_type": "code",
   "execution_count": 17,
   "metadata": {},
   "outputs": [],
   "source": [
    "from sklearn.model_selection import train_test_split\n",
    "from sklearn.feature_extraction.text import CountVectorizer\n",
    "from sklearn.feature_extraction.text import TfidfTransformer\n",
    "from sklearn.naive_bayes import MultinomialNB"
   ]
  },
  {
   "cell_type": "code",
   "execution_count": 18,
   "metadata": {},
   "outputs": [
    {
     "data": {
      "text/plain": [
       "<Figure size 640x480 with 1 Axes>"
      ]
     },
     "metadata": {},
     "output_type": "display_data"
    }
   ],
   "source": [
    "from sklearn.linear_model import LogisticRegression\n",
    "from sklearn.ensemble import RandomForestClassifier\n",
    "from sklearn.svm import LinearSVC\n",
    "from sklearn.neighbors import KNeighborsClassifier\n",
    "from sklearn.svm import SVC\n",
    "import matplotlib.pyplot as plt\n",
    "\n",
    "from sklearn.model_selection import cross_val_score\n",
    "models = [\n",
    "#     RandomForestClassifier(n_estimators=200, max_depth=3, random_state=0),\n",
    "#     KNeighborsClassifier(n_neighbors = 7),\n",
    "    MultinomialNB()\n",
    "#     SVC(kernel = 'linear',C = 1),\n",
    "]\n",
    "CV = 5\n",
    "cv_df = pd.DataFrame(index=range(CV * len(models)))\n",
    "entries = []\n",
    "for model in models:\n",
    "    model_name = model.__class__.__name__\n",
    "    accuracies = cross_val_score(model, features, labels, scoring='accuracy', cv=CV)\n",
    "    for fold_idx, accuracy in enumerate(accuracies):\n",
    "        entries.append((model_name, fold_idx, accuracy))\n",
    "cv_df = pd.DataFrame(entries, columns=['model_name', 'fold_idx', 'accuracy'])\n",
    "import seaborn as sns\n",
    "sns.boxplot(x='model_name', y='accuracy', data=cv_df)\n",
    "sns.stripplot(x='model_name', y='accuracy', data=cv_df, \n",
    "              size=8, jitter=True, edgecolor=\"gray\", linewidth=2)\n",
    "plt.show()"
   ]
  },
  {
   "cell_type": "code",
   "execution_count": 19,
   "metadata": {},
   "outputs": [
    {
     "data": {
      "text/plain": [
       "model_name\n",
       "MultinomialNB    0.852019\n",
       "Name: accuracy, dtype: float64"
      ]
     },
     "execution_count": 19,
     "metadata": {},
     "output_type": "execute_result"
    }
   ],
   "source": [
    "cv_df.groupby('model_name').accuracy.mean()"
   ]
  },
  {
   "cell_type": "code",
   "execution_count": 20,
   "metadata": {},
   "outputs": [
    {
     "data": {
      "image/png": "[encoded data removed]",
      "text/plain": [
       "<Figure size 720x720 with 2 Axes>"
      ]
     },
     "metadata": {},
     "output_type": "display_data"
    }
   ],
   "source": [
    "model = MultinomialNB()\n",
    "X_train, X_test, y_train, y_test, indices_train, indices_test = train_test_split(features, labels, actual_df.index, test_size=0.33, random_state=0)\n",
    "model.fit(X_train, y_train)\n",
    "y_pred = model.predict(X_test)\n",
    "from sklearn.metrics import confusion_matrix\n",
    "conf_mat = confusion_matrix(y_test, y_pred)\n",
    "fig, ax = plt.subplots(figsize=(10,10))\n",
    "sns.heatmap(conf_mat, annot=True, fmt='d',\n",
    "            xticklabels=category_id_df.Tag.values, yticklabels=category_id_df.Tag.values)\n",
    "plt.ylabel('Actual')\n",
    "plt.xlabel('Predicted')\n",
    "plt.show()"
   ]
  },
  {
   "cell_type": "code",
   "execution_count": null,
   "metadata": {},
   "outputs": [],
   "source": []
  }
 ],
 "metadata": {
  "kernelspec": {
   "display_name": "Python 3",
   "language": "python",
   "name": "python3"
  },
  "language_info": {
   "codemirror_mode": {
    "name": "ipython",
    "version": 3
   },
   "file_extension": ".py",
   "mimetype": "text/x-python",
   "name": "python",
   "nbconvert_exporter": "python",
   "pygments_lexer": "ipython3",
   "version": "3.5.5"
  }
 },
 "nbformat": 4,
 "nbformat_minor": 2
}
